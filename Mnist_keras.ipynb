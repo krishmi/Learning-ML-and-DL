{
 "cells": [
  {
   "cell_type": "code",
   "execution_count": 25,
   "metadata": {},
   "outputs": [],
   "source": [
    "import keras \n",
    "import keras.backend as K\n",
    "from keras.datasets import mnist"
   ]
  },
  {
   "cell_type": "code",
   "execution_count": 26,
   "metadata": {},
   "outputs": [],
   "source": [
    "(x_train,y_train),(x_test,y_test)=mnist.load_data()"
   ]
  },
  {
   "cell_type": "code",
   "execution_count": 27,
   "metadata": {},
   "outputs": [],
   "source": [
    "img_rows=img_cols=28\n",
    "if K.image_data_format() == 'channels_first':\n",
    "    x_train = x_train.reshape(x_train.shape[0], 1, img_rows, img_cols)\n",
    "    x_test = x_test.reshape(x_test.shape[0], 1, img_rows, img_cols)\n",
    "    input_shape = (1, img_rows, img_cols)\n",
    "else:\n",
    "    x_train = x_train.reshape(x_train.shape[0], img_rows, img_cols, 1)\n",
    "    x_test = x_test.reshape(x_test.shape[0], img_rows, img_cols, 1)\n",
    "    input_shape = (img_rows, img_cols, 1)"
   ]
  },
  {
   "cell_type": "code",
   "execution_count": 28,
   "metadata": {},
   "outputs": [
    {
     "data": {
      "text/plain": [
       "(60000, 28, 28, 1)"
      ]
     },
     "execution_count": 28,
     "metadata": {},
     "output_type": "execute_result"
    }
   ],
   "source": [
    "x_train.shape"
   ]
  },
  {
   "cell_type": "code",
   "execution_count": 29,
   "metadata": {},
   "outputs": [],
   "source": [
    "from keras.models import Sequential\n",
    "from keras.layers import Convolution2D,MaxPool2D,Dense,Flatten,Dropout"
   ]
  },
  {
   "cell_type": "code",
   "execution_count": 30,
   "metadata": {
    "scrolled": true
   },
   "outputs": [
    {
     "name": "stderr",
     "output_type": "stream",
     "text": [
      "/home/krishna/anaconda3/lib/python3.7/site-packages/ipykernel_launcher.py:3: UserWarning: Update your `Conv2D` call to the Keras 2 API: `Conv2D(32, (3, 3), activation=\"relu\", input_shape=(28, 28, 1...)`\n",
      "  This is separate from the ipykernel package so we can avoid doing imports until\n",
      "/home/krishna/anaconda3/lib/python3.7/site-packages/ipykernel_launcher.py:5: UserWarning: Update your `Conv2D` call to the Keras 2 API: `Conv2D(64, (3, 3), activation=\"relu\")`\n",
      "  \"\"\"\n"
     ]
    }
   ],
   "source": [
    "import numpy as np\n",
    "model=Sequential()\n",
    "model.add(Convolution2D(32,3,3,activation='relu',input_shape=input_shape))\n",
    "model.add(MaxPool2D())\n",
    "model.add(Convolution2D(64,3,3,activation='relu'))\n",
    "model.add(MaxPool2D())\n",
    "model.add(Flatten())"
   ]
  },
  {
   "cell_type": "code",
   "execution_count": 31,
   "metadata": {},
   "outputs": [],
   "source": [
    "n=10\n",
    "x_train=x_train.astype('float32')\n",
    "x_test=x_test.astype('float32')\n",
    "x_train/=255\n",
    "x_test/=255\n",
    "y_train=keras.utils.to_categorical(y_train)\n",
    "y_test=keras.utils.to_categorical(y_test)"
   ]
  },
  {
   "cell_type": "code",
   "execution_count": 32,
   "metadata": {},
   "outputs": [
    {
     "name": "stdout",
     "output_type": "stream",
     "text": [
      "WARNING:tensorflow:From /home/krishna/anaconda3/lib/python3.7/site-packages/keras/backend/tensorflow_backend.py:3445: calling dropout (from tensorflow.python.ops.nn_ops) with keep_prob is deprecated and will be removed in a future version.\n",
      "Instructions for updating:\n",
      "Please use `rate` instead of `keep_prob`. Rate should be set to `rate = 1 - keep_prob`.\n"
     ]
    }
   ],
   "source": [
    "model.add(Dense(128,activation='relu'))\n",
    "model.add(Dropout(.5))\n",
    "model.add(Dense(n,activation='softmax'))"
   ]
  },
  {
   "cell_type": "code",
   "execution_count": 33,
   "metadata": {},
   "outputs": [],
   "source": [
    "model.compile(loss='categorical_crossentropy',optimizer='adam',metrics=['accuracy'])"
   ]
  },
  {
   "cell_type": "code",
   "execution_count": 34,
   "metadata": {},
   "outputs": [
    {
     "name": "stdout",
     "output_type": "stream",
     "text": [
      "Train on 54000 samples, validate on 6000 samples\n",
      "Epoch 1/10\n",
      "54000/54000 [==============================] - 123s 2ms/step - loss: 0.2314 - acc: 0.9289 - val_loss: 0.0535 - val_acc: 0.9845\n",
      "Epoch 2/10\n",
      "54000/54000 [==============================] - 126s 2ms/step - loss: 0.0885 - acc: 0.9739 - val_loss: 0.0441 - val_acc: 0.9882\n",
      "Epoch 3/10\n",
      "54000/54000 [==============================] - 118s 2ms/step - loss: 0.0634 - acc: 0.9815 - val_loss: 0.0377 - val_acc: 0.9898\n",
      "Epoch 4/10\n",
      "54000/54000 [==============================] - 123s 2ms/step - loss: 0.0521 - acc: 0.9843 - val_loss: 0.0362 - val_acc: 0.9900\n",
      "Epoch 5/10\n",
      "54000/54000 [==============================] - 117s 2ms/step - loss: 0.0412 - acc: 0.9874 - val_loss: 0.0363 - val_acc: 0.9912\n",
      "Epoch 6/10\n",
      "54000/54000 [==============================] - 123s 2ms/step - loss: 0.0395 - acc: 0.9879 - val_loss: 0.0358 - val_acc: 0.9913\n",
      "Epoch 7/10\n",
      "54000/54000 [==============================] - 115s 2ms/step - loss: 0.0321 - acc: 0.9897 - val_loss: 0.0295 - val_acc: 0.9930\n",
      "Epoch 8/10\n",
      "54000/54000 [==============================] - 117s 2ms/step - loss: 0.0276 - acc: 0.9913 - val_loss: 0.0326 - val_acc: 0.9928\n",
      "Epoch 9/10\n",
      "54000/54000 [==============================] - 117s 2ms/step - loss: 0.0265 - acc: 0.9912 - val_loss: 0.0396 - val_acc: 0.9910\n",
      "Epoch 10/10\n",
      "54000/54000 [==============================] - 125s 2ms/step - loss: 0.0231 - acc: 0.9924 - val_loss: 0.0378 - val_acc: 0.9920\n"
     ]
    },
    {
     "data": {
      "text/plain": [
       "<keras.callbacks.History at 0x7f41d0d2ce48>"
      ]
     },
     "execution_count": 34,
     "metadata": {},
     "output_type": "execute_result"
    }
   ],
   "source": [
    "model.fit(x_train,y_train,epochs=10,validation_split=.1)"
   ]
  },
  {
   "cell_type": "code",
   "execution_count": 35,
   "metadata": {},
   "outputs": [
    {
     "name": "stdout",
     "output_type": "stream",
     "text": [
      "10000/10000 [==============================] - 7s 655us/step\n"
     ]
    },
    {
     "data": {
      "text/plain": [
       "[0.02520089808073667, 0.9923]"
      ]
     },
     "execution_count": 35,
     "metadata": {},
     "output_type": "execute_result"
    }
   ],
   "source": [
    "model.evaluate(x_test,y_test)"
   ]
  },
  {
   "cell_type": "code",
   "execution_count": null,
   "metadata": {},
   "outputs": [],
   "source": []
  }
 ],
 "metadata": {
  "kernelspec": {
   "display_name": "Python 3",
   "language": "python",
   "name": "python3"
  },
  "language_info": {
   "codemirror_mode": {
    "name": "ipython",
    "version": 3
   },
   "file_extension": ".py",
   "mimetype": "text/x-python",
   "name": "python",
   "nbconvert_exporter": "python",
   "pygments_lexer": "ipython3",
   "version": "3.7.2"
  }
 },
 "nbformat": 4,
 "nbformat_minor": 2
}
